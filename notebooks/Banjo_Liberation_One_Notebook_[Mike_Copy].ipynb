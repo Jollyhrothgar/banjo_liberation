{
 "cells": [
  {
   "cell_type": "markdown",
   "metadata": {
    "colab_type": "text",
    "id": "view-in-github"
   },
   "source": [
    "<a href=\"https://colab.research.google.com/github/Jollyhrothgar/banjo_liberation/blob/main/Banjo_Liberation_One_Notebook_%5BMike_Copy%5D.ipynb\" target=\"_parent\"><img src=\"https://colab.research.google.com/assets/colab-badge.svg\" alt=\"Open In Colab\"/></a>"
   ]
  },
  {
   "cell_type": "markdown",
   "metadata": {
    "id": "8FpWe_749oEj"
   },
   "source": [
    "# Imports"
   ]
  },
  {
   "cell_type": "code",
   "execution_count": 37,
   "metadata": {
    "id": "HOps_F2R9r1m"
   },
   "outputs": [],
   "source": [
    "import copy\n",
    "import json"
   ]
  },
  {
   "cell_type": "markdown",
   "metadata": {
    "id": "2Z6tSX8h8q_Q"
   },
   "source": [
    "# Note Class"
   ]
  },
  {
   "cell_type": "code",
   "execution_count": 38,
   "metadata": {
    "id": "IINkiIK86naV"
   },
   "outputs": [],
   "source": [
    "class Note:\n",
    "  ''' Note class handles note/octave object, transposition, and frequency\n",
    "    calculation\n",
    "  '''\n",
    "\n",
    "  NOTES = ['c','c#','d','d#','e','f','f#','g','g#','a','a#','b']\n",
    "\n",
    "  def __init__(self, note):\n",
    "    ''' Instantiate note, examples:\n",
    "      Note('C')    # C4 (middle C)\n",
    "      Note(0)    # C at octave 0\n",
    "      Note(1)    # C-sharp at octave 0\n",
    "      Note(12)     # C at octave 1\n",
    "      Note('C2')   # C at octave 2\n",
    "      Note('Db')   # D-flat at octave 4\n",
    "      Note('D#3')  # D-sharp at octave 3\n",
    "      Note(('G', 5)) # G note at octave 5\n",
    "    '''\n",
    "    if isinstance(note, str):\n",
    "      self.index = Note.index_from_string(note)\n",
    "    elif isinstance(note, tuple):\n",
    "      self.index = Note.index_from_string(note[0]) + 12 * note[1]\n",
    "    elif isinstance(note, Note):\n",
    "      self.index = note.index\n",
    "    else:\n",
    "      self.index = int(note)\n",
    "  \n",
    "  def get_note_name(self):\n",
    "    return f\"{self.note}{self.octave}\"\n",
    "\n",
    "  def __repr__(self):\n",
    "    return f\"Note('{self.note}{self.octave}')\"\n",
    "\n",
    "  def __lt__(self, other):\n",
    "    return self.index < other.index\n",
    "\n",
    "  def __gt__(self, other):\n",
    "    return self.index > other.index\n",
    "\n",
    "  def __eq__(self, other):\n",
    "    return self.index == other.index\n",
    "\n",
    "  def __float__(self):\n",
    "    return self.frequency()\n",
    "\n",
    "  @property\n",
    "  def note(self):\n",
    "    ''' note name property\n",
    "    '''\n",
    "    return Note.NOTES[self.index % 12]\n",
    "\n",
    "  @property\n",
    "  def octave(self):\n",
    "    ''' octave number property\n",
    "    '''\n",
    "    return int(self.index / 12)\n",
    "\n",
    "  @classmethod\n",
    "  def index_from_string(cls, note):\n",
    "    ''' Get index number from note string\n",
    "    '''\n",
    "    octave = 4\n",
    "    note = note.strip().lower()\n",
    "    if note[-1].isdigit():\n",
    "      note, octave = note[:-1], int(note[-1])\n",
    "    if len(note) > 1:\n",
    "      note = cls.normalize(note)\n",
    "    return cls.NOTES.index(note) + 12 * octave\n",
    "\n",
    "  @classmethod\n",
    "  def normalize(cls, note):\n",
    "    ''' Translate accidentals and normalize flats to sharps\n",
    "      For example E#->F, F##->G, Db->C#\n",
    "    '''\n",
    "    index = cls.NOTES.index(note[0].lower())\n",
    "    for accidental in note[1:]:\n",
    "      if accidental == '#':\n",
    "        index += 1\n",
    "      elif accidental == 'b':\n",
    "        index -= 1\n",
    "    return cls.NOTES[index % 12]\n",
    "\n",
    "  def at_octave(self, octave):\n",
    "    ''' Return new instance of note at given octave\n",
    "    '''\n",
    "    return Note((self.index % 12) + 12 * octave)\n",
    "\n",
    "  def transpose(self, halfsteps):\n",
    "    ''' Return transposed note by halfstep delta\n",
    "    '''\n",
    "    return Note(self.index + halfsteps)\n",
    "\n",
    "  def frequency(self):\n",
    "    ''' Return frequency of note\n",
    "    '''\n",
    "    return 16.35159783128741 * 2.0 ** (float(self.index) / 12.0)"
   ]
  },
  {
   "cell_type": "markdown",
   "metadata": {
    "id": "fxhfnR378t3p"
   },
   "source": [
    "# Banjo Chord Generation"
   ]
  },
  {
   "cell_type": "code",
   "execution_count": 114,
   "metadata": {
    "id": "h4Da1Glm7xxK"
   },
   "outputs": [],
   "source": [
    "ROLL_DICT = {\n",
    "  'square_roll': (3, 2, 5, 1),\n",
    "  'triple_forward_square': (4, 3, 2, 3, 2, 1, 4, 3, 2, 3, 2, 1, 5, 2, 3, 1),\n",
    "  'forward_backward': (3, 2, 1, 2 , 1, 2, 3, 1),\n",
    "}\n",
    "\n",
    "BANJO_TUNING = {\n",
    "  1: Note('d5'),\n",
    "  2: Note('b4'),\n",
    "  3: Note('g4'),\n",
    "  4: Note('d4'),\n",
    "  5: Note('g5')\n",
    "}\n",
    "\n",
    "MOVEABLE_CHORDS = {\n",
    "  'gamma_g4': (0, 0, 0, 0, 0),\n",
    "    \n",
    "}\n",
    "\n",
    "CHORD_DICT = {\n",
    "  'gamma_g1': (0, 0, 0, 0, 0),\n",
    "  'beta_c1': (2, 1, 0, 2, 0),\n",
    "  'beta_d1': (4, 3, 2, 4, 0),\n",
    "  'alpha_g1': (5, 3, 4, 5, 0),\n",
    "  'alpha_c1': (10, 8, 9, 10, 0),\n",
    "  'alpha_d1': (12, 10, 11 ,12, 0),\n",
    "  'beta_c2': (14, 13, 12, 14, 0),\n",
    "  'beta_g2': (9, 8, 7, 9, 0),\n",
    "  'beta_d2': (16, 15, 14, 16, 0),\n",
    "}\n",
    "\n",
    "\n",
    "def render_roll(roll, note_length):\n",
    "  \"\"\"\n",
    "  Given a roll (an array of Notes) and a note_length (in seconds), render the wave-form that the\n",
    "  audio synthesizer needs to make some noise.\n",
    "  Args:\n",
    "    roll: an array of Notes\n",
    "    note_length: how long to play each note.\n",
    "  Returns:\n",
    "    rendered notes (a wave-form that is played with an audio synthesizer)\n",
    "  \"\"\"\n",
    "  return [Hit(note=note, length=note_length).render() for note in roll]\n",
    "\n",
    "\n",
    "def play_roll(roll):\n",
    "  \"\"\"Play each note in a rendered roll sequentially\"\"\"\n",
    "  for note in roll:\n",
    "    play(note)\n",
    "\n",
    "\n",
    "def fret_strings(chord):\n",
    "  \"\"\"\n",
    "  Fret strings pulls BANJO_TUNING from the global namespace and frets the strings\n",
    "  according to the supplied chord.\n",
    "  chord: a tuple which maps the depressed fret to the banjo string, according to the schema:\n",
    "    chord = (\n",
    "      first string fret,\n",
    "      second string fret,\n",
    "      third string fret,\n",
    "      fourth string fret,\n",
    "      fifth string fret\n",
    "    )\n",
    "  Args:\n",
    "    chord: a tuple of depressed frets\n",
    "  Returns:\n",
    "    A dictionary of banjo strings mapped to the note after the chord has been applied.\n",
    "  \"\"\"\n",
    "  global BANJO_TUNING\n",
    "  fretted_strings = dict(BANJO_TUNING)\n",
    "\n",
    "  for str_idx, fret in enumerate(chord):\n",
    "    banjo_string = str_idx + 1\n",
    "    fretted_strings[banjo_string] = fretted_strings[banjo_string].transpose(fret)\n",
    "  return fretted_strings\n",
    "\n",
    "\n",
    "def make_alpha_minor(chord):\n",
    "  \"\"\"Transform an alpha major to alpha minor chord\n",
    "  \n",
    "  (2, 0, 1, 2, 0)\n",
    "  \"\"\"\n",
    "  return tuple([string - 1 if idx == 2 else string for idx, string in enumerate(chord)])\n",
    "\n",
    "\n",
    "def make_alpha_seven(chord):\n",
    "  pass\n",
    "\n",
    "def make_alpha_minor_seven(chord):\n",
    "  pass\n",
    "\n",
    "def make_beta_minor(chord):\n",
    "  \"\"\"Transform a beta to a beta minor chord\n",
    "  \n",
    "  (2, 1, 0, 2, 0)\n",
    "  \"\"\"\n",
    "  return tuple([string - 1 if idx in (0, 3) else string for idx, string in enumerate(chord)])\n",
    "\n",
    "\n",
    "def make_beta_seven(chord):\n",
    "  pass\n",
    "\n",
    "def make_beta_minor_seven(chord):\n",
    "  pass\n",
    "\n",
    "def make_gamma_minor(chord):\n",
    "  \"\"\" Transform a gamma to gamma minor\n",
    "  (0, 0, 0, 0, 0)\n",
    "  \"\"\"\n",
    "  return tuple([string - 1 if idx == 1 else string for idx, string in enumerate(chord)])\n",
    "\n",
    "def make_gamma_seven(chord):\n",
    "  pass\n",
    "\n",
    "def make_gamma_minor_seven(chord):\n",
    "  pass\n",
    "\n",
    "def generate_moveable_chords(file_name=None):\n",
    "  \"\"\"\n",
    "  Given the first location of moveable chords represented as a tuple:\n",
    "    chord = (\n",
    "      first string fret,\n",
    "      second string fret,\n",
    "      third string fret,\n",
    "      fourth string fret,\n",
    "      fifth string fret\n",
    "    )\n",
    "  \n",
    "  Generate all moveable chords on the banjo. Optionally, each chord can be transformed with a\n",
    "  chord transformer (but the base shapes could also just be specified hardcoded).\n",
    "  #TODO(mike): Do something with file_name\n",
    "  Args:\n",
    "    file_name: A string that contains the full path to the file to serialize the generated\n",
    "    chords.\n",
    "  Returns:\n",
    "    A dictionary mapping the normalized Note name (representing the pitch of the chord) to the\n",
    "    frets that are depressed to play the chord.\n",
    "  \"\"\"\n",
    "  first_alpha = (2, 0, 1, 2, 0) # e\n",
    "  first_beta  = (2, 1, 0, 2, 0) # c\n",
    "  first_gamma = (0, 0, 0, 0, 0) # g\n",
    "  moveable_chords = {}\n",
    "\n",
    "  for fret_position in range(0, 23):\n",
    "    # These are all tuples that map strings to fret positions:\n",
    "    # E.g. alpha = (\n",
    "    #          first string fret position,\n",
    "    #          second string fret position,\n",
    "    #          third string fret position,\n",
    "    #          fourth string fret position,\n",
    "    #          fifth string fret position,\n",
    "    #        )\n",
    "    # Add the fret offset to each base chord, and don't add an offset to the fifth string.\n",
    "    alpha = tuple([banjo_string + fret_position if string_idx != 4 else banjo_string for string_idx, banjo_string in enumerate(first_alpha)])\n",
    "    alpha_minor = make_alpha_minor(alpha)\n",
    "    beta = tuple([banjo_string + fret_position if string_idx != 4 else banjo_string for string_idx, banjo_string in enumerate(first_beta)])\n",
    "    beta_minor = make_beta_minor(beta)\n",
    "    gamma = tuple([banjo_string + fret_position if string_idx != 4 else banjo_string for string_idx, banjo_string in enumerate(first_gamma)])\n",
    "    gamma_minor = make_gamma_minor(gamma)\n",
    "\n",
    "    fretted_alpha = fret_strings(alpha)\n",
    "    fretted_alpha_minor = fret_strings(alpha_minor)\n",
    "    fretted_beta = fret_strings(beta)\n",
    "    fretted_beta_minor = fret_strings(beta_minor)\n",
    "    fretted_gamma = fret_strings(gamma)\n",
    "    fretted_gamma_minor = fret_strings(gamma_minor)\n",
    "    \n",
    "    # Make sure we're not playing frets that don't exist\n",
    "    if any([fret > 22 for fret in alpha]) or any([fret < 0 for fret in alpha]):\n",
    "      pass # Chord contains frets that are greater than 22 or less than 0.\n",
    "    else:\n",
    "      moveable_chords['alpha_' + fretted_alpha[1].get_note_name()] = alpha\n",
    "\n",
    "    if any([fret > 22 for fret in beta]) or any([fret < 0 for fret in beta]):\n",
    "      pass # Chord contains frets that are greater than 22 or less than 0.\n",
    "    else:\n",
    "      moveable_chords['beta_' + fretted_beta[2].get_note_name()] = beta \n",
    "\n",
    "    if any([fret > 22 for fret in beta_minor]) or any([fret < 0 for fret in beta_minor]):\n",
    "      pass # Chord contains frets that are greater than 22 or less than 0.\n",
    "    else:\n",
    "      moveable_chords['beta_minor_' + fretted_beta_minor[2].get_note_name()] = beta_minor \n",
    "\n",
    "    if any([fret > 22 for fret in gamma]) or any([fret < 0 for fret in gamma]):\n",
    "      pass # Chord contains frets that are greater than 22 or less than 0.\n",
    "    else:\n",
    "      moveable_chords['gamma_' + fretted_gamma[3].get_note_name()] = gamma\n",
    "    \n",
    "    if any([fret > 22 for fret in gamma_minor]) or any([fret < 0 for fret in gamma_minor]):\n",
    "      pass # Chord contains frets that are greater than 22 or less than 0.\n",
    "    else:\n",
    "      moveable_chords['gamma_minor_' + fretted_gamma_minor[3].get_note_name()] = gamma_minor\n",
    "\n",
    "    if any([fret > 22 for fret in alpha_minor]) or any([fret < 0 for fret in alpha_minor]):\n",
    "      pass # Chord contains frets that are greater than 22 or less than 0.\n",
    "    else:\n",
    "      moveable_chords['alpha_minor_' + fretted_alpha_minor[1].get_note_name()] = alpha_minor\n",
    "  \n",
    "  return moveable_chords\n",
    "\n",
    "\n",
    "def make_roll(strings, roll_pattern):\n",
    "  \"\"\"\n",
    "  Given a set of strings and a roll pattern, return the strings to be plucked in order of\n",
    "  plucking.\n",
    "  Args:\n",
    "    strings: A banjo strings dictionary.\n",
    "    roll_pattern: A tuple which determins what order to pluck the strings.\n",
    "  Returns:\n",
    "    An array of Notes.\n",
    "  \"\"\"\n",
    "  return [strings[pluck] for pluck in roll_pattern]"
   ]
  },
  {
   "cell_type": "markdown",
   "metadata": {
    "id": "DhwxZ3dm86y2"
   },
   "source": [
    "# Tests"
   ]
  },
  {
   "cell_type": "code",
   "execution_count": 115,
   "metadata": {
    "id": "H_QGf7J983mr"
   },
   "outputs": [],
   "source": [
    "def test_chords():\n",
    "  chord_1 = fret_strings(chord=CHORD_DICT['alpha_g1'])\n",
    "  chord_2 = fret_strings(chord=CHORD_DICT['alpha_c1'])\n",
    "  chord_3 = fret_strings(chord=CHORD_DICT['alpha_d1'])\n",
    "  chord_4 = fret_strings(chord=CHORD_DICT['alpha_g1'])\n",
    "\n",
    "  for name, chord in generate_moveable_chords(file_name=None).items():\n",
    "    print(name, chord)\n",
    "\n",
    "def test_note():\n",
    "  test_note = Note('g4')\n",
    "  print(test_note.get_note_name())\n"
   ]
  },
  {
   "cell_type": "code",
   "execution_count": 116,
   "metadata": {
    "colab": {
     "base_uri": "https://localhost:8080/"
    },
    "id": "CLkGhLtg92sI",
    "outputId": "b4e39fae-165d-4ba8-b22c-54eb8c6ed681"
   },
   "outputs": [
    {
     "name": "stdout",
     "output_type": "stream",
     "text": [
      "alpha_e5 (2, 0, 1, 2, 0)\n",
      "beta_c5 (2, 1, 0, 2, 0)\n",
      "beta_minor_c5 (1, 1, 0, 1, 0)\n",
      "gamma_g4 (0, 0, 0, 0, 0)\n",
      "alpha_minor_e5 (2, 0, 0, 2, 0)\n",
      "alpha_f5 (3, 1, 2, 3, 0)\n",
      "beta_c#5 (3, 2, 1, 3, 0)\n",
      "beta_minor_c#5 (2, 2, 1, 2, 0)\n",
      "gamma_g#4 (1, 1, 1, 1, 0)\n",
      "gamma_minor_g#4 (1, 0, 1, 1, 0)\n",
      "alpha_minor_f5 (3, 1, 1, 3, 0)\n",
      "alpha_f#5 (4, 2, 3, 4, 0)\n",
      "beta_d5 (4, 3, 2, 4, 0)\n",
      "beta_minor_d5 (3, 3, 2, 3, 0)\n",
      "gamma_a4 (2, 2, 2, 2, 0)\n",
      "gamma_minor_a4 (2, 1, 2, 2, 0)\n",
      "alpha_minor_f#5 (4, 2, 2, 4, 0)\n",
      "alpha_g5 (5, 3, 4, 5, 0)\n",
      "beta_d#5 (5, 4, 3, 5, 0)\n",
      "beta_minor_d#5 (4, 4, 3, 4, 0)\n",
      "gamma_a#4 (3, 3, 3, 3, 0)\n",
      "gamma_minor_a#4 (3, 2, 3, 3, 0)\n",
      "alpha_minor_g5 (5, 3, 3, 5, 0)\n",
      "alpha_g#5 (6, 4, 5, 6, 0)\n",
      "beta_e5 (6, 5, 4, 6, 0)\n",
      "beta_minor_e5 (5, 5, 4, 5, 0)\n",
      "gamma_b4 (4, 4, 4, 4, 0)\n",
      "gamma_minor_b4 (4, 3, 4, 4, 0)\n",
      "alpha_minor_g#5 (6, 4, 4, 6, 0)\n",
      "alpha_a5 (7, 5, 6, 7, 0)\n",
      "beta_f5 (7, 6, 5, 7, 0)\n",
      "beta_minor_f5 (6, 6, 5, 6, 0)\n",
      "gamma_c5 (5, 5, 5, 5, 0)\n",
      "gamma_minor_c5 (5, 4, 5, 5, 0)\n",
      "alpha_minor_a5 (7, 5, 5, 7, 0)\n",
      "alpha_a#5 (8, 6, 7, 8, 0)\n",
      "beta_f#5 (8, 7, 6, 8, 0)\n",
      "beta_minor_f#5 (7, 7, 6, 7, 0)\n",
      "gamma_c#5 (6, 6, 6, 6, 0)\n",
      "gamma_minor_c#5 (6, 5, 6, 6, 0)\n",
      "alpha_minor_a#5 (8, 6, 6, 8, 0)\n",
      "alpha_b5 (9, 7, 8, 9, 0)\n",
      "beta_g5 (9, 8, 7, 9, 0)\n",
      "beta_minor_g5 (8, 8, 7, 8, 0)\n",
      "gamma_d5 (7, 7, 7, 7, 0)\n",
      "gamma_minor_d5 (7, 6, 7, 7, 0)\n",
      "alpha_minor_b5 (9, 7, 7, 9, 0)\n",
      "alpha_c6 (10, 8, 9, 10, 0)\n",
      "beta_g#5 (10, 9, 8, 10, 0)\n",
      "beta_minor_g#5 (9, 9, 8, 9, 0)\n",
      "gamma_d#5 (8, 8, 8, 8, 0)\n",
      "gamma_minor_d#5 (8, 7, 8, 8, 0)\n",
      "alpha_minor_c6 (10, 8, 8, 10, 0)\n",
      "alpha_c#6 (11, 9, 10, 11, 0)\n",
      "beta_a5 (11, 10, 9, 11, 0)\n",
      "beta_minor_a5 (10, 10, 9, 10, 0)\n",
      "gamma_e5 (9, 9, 9, 9, 0)\n",
      "gamma_minor_e5 (9, 8, 9, 9, 0)\n",
      "alpha_minor_c#6 (11, 9, 9, 11, 0)\n",
      "alpha_d6 (12, 10, 11, 12, 0)\n",
      "beta_a#5 (12, 11, 10, 12, 0)\n",
      "beta_minor_a#5 (11, 11, 10, 11, 0)\n",
      "gamma_f5 (10, 10, 10, 10, 0)\n",
      "gamma_minor_f5 (10, 9, 10, 10, 0)\n",
      "alpha_minor_d6 (12, 10, 10, 12, 0)\n",
      "alpha_d#6 (13, 11, 12, 13, 0)\n",
      "beta_b5 (13, 12, 11, 13, 0)\n",
      "beta_minor_b5 (12, 12, 11, 12, 0)\n",
      "gamma_f#5 (11, 11, 11, 11, 0)\n",
      "gamma_minor_f#5 (11, 10, 11, 11, 0)\n",
      "alpha_minor_d#6 (13, 11, 11, 13, 0)\n",
      "alpha_e6 (14, 12, 13, 14, 0)\n",
      "beta_c6 (14, 13, 12, 14, 0)\n",
      "beta_minor_c6 (13, 13, 12, 13, 0)\n",
      "gamma_g5 (12, 12, 12, 12, 0)\n",
      "gamma_minor_g5 (12, 11, 12, 12, 0)\n",
      "alpha_minor_e6 (14, 12, 12, 14, 0)\n",
      "alpha_f6 (15, 13, 14, 15, 0)\n",
      "beta_c#6 (15, 14, 13, 15, 0)\n",
      "beta_minor_c#6 (14, 14, 13, 14, 0)\n",
      "gamma_g#5 (13, 13, 13, 13, 0)\n",
      "gamma_minor_g#5 (13, 12, 13, 13, 0)\n",
      "alpha_minor_f6 (15, 13, 13, 15, 0)\n",
      "alpha_f#6 (16, 14, 15, 16, 0)\n",
      "beta_d6 (16, 15, 14, 16, 0)\n",
      "beta_minor_d6 (15, 15, 14, 15, 0)\n",
      "gamma_a5 (14, 14, 14, 14, 0)\n",
      "gamma_minor_a5 (14, 13, 14, 14, 0)\n",
      "alpha_minor_f#6 (16, 14, 14, 16, 0)\n",
      "alpha_g6 (17, 15, 16, 17, 0)\n",
      "beta_d#6 (17, 16, 15, 17, 0)\n",
      "beta_minor_d#6 (16, 16, 15, 16, 0)\n",
      "gamma_a#5 (15, 15, 15, 15, 0)\n",
      "gamma_minor_a#5 (15, 14, 15, 15, 0)\n",
      "alpha_minor_g6 (17, 15, 15, 17, 0)\n",
      "alpha_g#6 (18, 16, 17, 18, 0)\n",
      "beta_e6 (18, 17, 16, 18, 0)\n",
      "beta_minor_e6 (17, 17, 16, 17, 0)\n",
      "gamma_b5 (16, 16, 16, 16, 0)\n",
      "gamma_minor_b5 (16, 15, 16, 16, 0)\n",
      "alpha_minor_g#6 (18, 16, 16, 18, 0)\n",
      "alpha_a6 (19, 17, 18, 19, 0)\n",
      "beta_f6 (19, 18, 17, 19, 0)\n",
      "beta_minor_f6 (18, 18, 17, 18, 0)\n",
      "gamma_c6 (17, 17, 17, 17, 0)\n",
      "gamma_minor_c6 (17, 16, 17, 17, 0)\n",
      "alpha_minor_a6 (19, 17, 17, 19, 0)\n",
      "alpha_a#6 (20, 18, 19, 20, 0)\n",
      "beta_f#6 (20, 19, 18, 20, 0)\n",
      "beta_minor_f#6 (19, 19, 18, 19, 0)\n",
      "gamma_c#6 (18, 18, 18, 18, 0)\n",
      "gamma_minor_c#6 (18, 17, 18, 18, 0)\n",
      "alpha_minor_a#6 (20, 18, 18, 20, 0)\n",
      "alpha_b6 (21, 19, 20, 21, 0)\n",
      "beta_g6 (21, 20, 19, 21, 0)\n",
      "beta_minor_g6 (20, 20, 19, 20, 0)\n",
      "gamma_d6 (19, 19, 19, 19, 0)\n",
      "gamma_minor_d6 (19, 18, 19, 19, 0)\n",
      "alpha_minor_b6 (21, 19, 19, 21, 0)\n",
      "alpha_c7 (22, 20, 21, 22, 0)\n",
      "beta_g#6 (22, 21, 20, 22, 0)\n",
      "beta_minor_g#6 (21, 21, 20, 21, 0)\n",
      "gamma_d#6 (20, 20, 20, 20, 0)\n",
      "gamma_minor_d#6 (20, 19, 20, 20, 0)\n",
      "alpha_minor_c7 (22, 20, 20, 22, 0)\n",
      "beta_minor_a6 (22, 22, 21, 22, 0)\n",
      "gamma_e6 (21, 21, 21, 21, 0)\n",
      "gamma_minor_e6 (21, 20, 21, 21, 0)\n",
      "gamma_f6 (22, 22, 22, 22, 0)\n",
      "gamma_minor_f6 (22, 21, 22, 22, 0)\n"
     ]
    }
   ],
   "source": [
    "test_chords()"
   ]
  },
  {
   "cell_type": "code",
   "execution_count": 42,
   "metadata": {
    "colab": {
     "base_uri": "https://localhost:8080/"
    },
    "id": "MckWcll8-AMn",
    "outputId": "6c47b528-b1af-4d4f-e944-650e4295d203"
   },
   "outputs": [
    {
     "name": "stdout",
     "output_type": "stream",
     "text": [
      "g4\n"
     ]
    }
   ],
   "source": [
    "test_note()"
   ]
  },
  {
   "cell_type": "markdown",
   "metadata": {
    "id": "FNzuE7Eb-DuD"
   },
   "source": [
    "# Goal for today\n",
    "\n",
    "* Four measures of sixteenth notes\n",
    "* Measure 1: G, Measure 2: C, Measure 3: G, Measure 4: D\n",
    "* Export to tabledit"
   ]
  },
  {
   "cell_type": "code",
   "execution_count": 127,
   "metadata": {
    "id": "AHP3M3lW_YKG"
   },
   "outputs": [],
   "source": [
    "def roll_on_chord(roll_pattern, chord):\n",
    "  \"\"\" Assume that a roll is 16h notes, an eight note roll\n",
    "  repeated twice.\n",
    "  Args:\n",
    "    roll_pattern: a string such as T1I1M3 - this means Thumb on first string\n",
    "      index on first string, middle on third string.\n",
    "    chord: a tuple, such as alpha g5, e.g. (5, 3, 4, 5, 0) # fret\n",
    "                                           (1, 2, 3, 4, 5) # string number\n",
    "                                           (0, 1, 2, 3, 4) # tuple index\n",
    "  Returns A time sequenced list of notes and durations and frets\n",
    "    List[\n",
    "      {\n",
    "        'fret': 3 ,\n",
    "        'time': 2,\n",
    "        'string': convert roll pattern to string.\n",
    "      }\n",
    "    ]\n",
    "  \"\"\"\n",
    "  string_index_lookup = {\n",
    "      '1': 0,\n",
    "      '2': 1,\n",
    "      '3': 2,\n",
    "      '4': 3,\n",
    "      '5': 4\n",
    "  }\n",
    "\n",
    "  # roll_pattern T4I3M2 -> T4 I3 M2\n",
    "  n = 2\n",
    "  roll = [roll_pattern[i:i+n] for i in range(0, len(roll_pattern), n)]\n",
    "\n",
    "  output = []\n",
    "\n",
    "  for finger in roll:  \n",
    "    string_number = finger[1]\n",
    "    string_idx = string_index_lookup[string_number]\n",
    "\n",
    "    # Get the right fret\n",
    "    fret = chord[string_idx]\n",
    "\n",
    "    # append the string, duration, and fret to the output object. \n",
    "    output.append(\n",
    "        {\n",
    "            'fret': fret,\n",
    "            'time': 2,\n",
    "            'string': int(string_number)\n",
    "        }\n",
    "    )\n",
    "  return output\n",
    "    "
   ]
  },
  {
   "cell_type": "code",
   "execution_count": 128,
   "metadata": {
    "id": "iaScZ8_pIhW5"
   },
   "outputs": [],
   "source": [
    "def prototab_to_ascii(proto_tab):\n",
    "  \"\"\"Takes prototab and returns ascii.\n",
    "  \n",
    "  Assume that no notes are played at the same time. Use the duration\n",
    "  of each note to fill out each string in ascii with either a played\n",
    "  note or '-' characters. Grow the ascii from left to right.\n",
    "  \"\"\"\n",
    "                   #  1 ,    2,     3,     4,    5\n",
    "  ascii_strings = [  '|',   '|',   '|',   '|',  '|']\n",
    "  first_string = 0\n",
    "  second_string = 1\n",
    "  third_string = 2\n",
    "  fourth_string = 3\n",
    "  fifth_string = 4\n",
    "\n",
    "  # trinary operator\n",
    "  # value = option1 if condition true else option2\n",
    "\n",
    "  for note in proto_tab:\n",
    "    ascii_strings[first_string]  += str(note['fret']).ljust(note['time'], '-') if note['string'] == 1 else '-'.ljust(note['time'], '-')\n",
    "    ascii_strings[second_string] += str(note['fret']).ljust(note['time'], '-') if note['string'] == 2 else '-'.ljust(note['time'], '-')\n",
    "    ascii_strings[third_string]  += str(note['fret']).ljust(note['time'], '-') if note['string'] == 3 else '-'.ljust(note['time'], '-')\n",
    "    ascii_strings[fourth_string] += str(note['fret']).ljust(note['time'], '-') if note['string'] == 4 else '-'.ljust(note['time'], '-')\n",
    "    ascii_strings[fifth_string]  += str(note['fret']).ljust(note['time'], '-') if note['string'] == 5 else '-'.ljust(note['time'], '-')\n",
    "\n",
    "  return ascii_strings"
   ]
  },
  {
   "cell_type": "code",
   "execution_count": 129,
   "metadata": {
    "id": "Wk-93Lg4DSss"
   },
   "outputs": [],
   "source": [
    "chords = generate_moveable_chords()"
   ]
  },
  {
   "cell_type": "code",
   "execution_count": 130,
   "metadata": {
    "colab": {
     "base_uri": "https://localhost:8080/"
    },
    "id": "KSx4MV98Zkpo",
    "outputId": "33c9afd2-ae97-4831-a677-fd3339d1138e"
   },
   "outputs": [
    {
     "name": "stdout",
     "output_type": "stream",
     "text": [
      "T4I3M2T3I2M1T4I3M2T3I2M1T5I2T3M1\n"
     ]
    }
   ],
   "source": [
    "first_chord = chords['alpha_g5']\n",
    "second_chord = chords['alpha_c6']\n",
    "third_chord = chords['alpha_d6']\n",
    "fourth_chord = first_chord\n",
    "\n",
    "roll = 'T4I3M2T3I2M1'\n",
    "roll += roll\n",
    "roll += 'T5I2T3M1'\n",
    "print(roll)"
   ]
  },
  {
   "cell_type": "code",
   "execution_count": 131,
   "metadata": {
    "id": "pXPs42VmUPVN"
   },
   "outputs": [],
   "source": [
    "measures = []\n",
    "for chord in [first_chord, second_chord, third_chord, fourth_chord]:\n",
    "  prototab = roll_on_chord(roll_pattern=roll, chord=chord)\n",
    "  measures.append(prototab_to_ascii(prototab))"
   ]
  },
  {
   "cell_type": "code",
   "execution_count": 132,
   "metadata": {
    "colab": {
     "base_uri": "https://localhost:8080/",
     "height": 36
    },
    "id": "7Wxa3AJVQgXy",
    "outputId": "a5ba3b0c-3c63-47c3-da77-bbf1c278e09f"
   },
   "outputs": [
    {
     "data": {
      "application/vnd.google.colaboratory.intrinsic+json": {
       "type": "string"
      },
      "text/plain": [
       "'|----------5-----------5-------5-'"
      ]
     },
     "execution_count": 132,
     "metadata": {},
     "output_type": "execute_result"
    }
   ],
   "source": [
    "measures[0][0]"
   ]
  },
  {
   "cell_type": "code",
   "execution_count": 133,
   "metadata": {
    "colab": {
     "base_uri": "https://localhost:8080/"
    },
    "id": "6ZuBjPpvMUFk",
    "outputId": "0e09cbdc-a3bd-4e3a-854b-5e3175d38625"
   },
   "outputs": [
    {
     "name": "stdout",
     "output_type": "stream",
     "text": [
      "|----------5-----------5-------5-|----------10----------10------10|----------12----------12------12|----------5-----------5-------5-|\n",
      "|----3---3-------3---3-----3-----|----8---8-------8---8-----8-----|----10--10------10--10----10----|----3---3-------3---3-----3-----|\n",
      "|--4---4-------4---4---------4---|--9---9-------9---9---------9---|--11--11------11--11--------11--|--4---4-------4---4---------4---|\n",
      "|5-----------5-------------------|10----------10------------------|12----------12------------------|5-----------5-------------------|\n",
      "|------------------------0-------|------------------------0-------|------------------------0-------|------------------------0-------|\n"
     ]
    }
   ],
   "source": [
    "lines = [\n",
    "  ''.join([m[0] for m in measures]),\n",
    "  ''.join([m[1] for m in measures]),\n",
    "  ''.join([m[2] for m in measures]),\n",
    "  ''.join([m[3] for m in measures]),\n",
    "  ''.join([m[4] for m in measures]),\n",
    "]\n",
    "\n",
    "lines = [line + '|' for line in lines]\n",
    "\n",
    "print('\\n'.join(lines))"
   ]
  },
  {
   "cell_type": "code",
   "execution_count": 89,
   "metadata": {
    "colab": {
     "base_uri": "https://localhost:8080/"
    },
    "id": "ziiLjEvsP5lB",
    "outputId": "9160e627-6e77-4882-bac7-8fc8360b0203"
   },
   "outputs": [
    {
     "data": {
      "text/plain": [
       "[9, 4, 1]"
      ]
     },
     "execution_count": 89,
     "metadata": {},
     "output_type": "execute_result"
    }
   ],
   "source": [
    "[i**2 for i in (3, 2, 1)]"
   ]
  },
  {
   "cell_type": "code",
   "execution_count": null,
   "metadata": {
    "id": "peA8jrAHSuFX"
   },
   "outputs": [],
   "source": []
  }
 ],
 "metadata": {
  "colab": {
   "authorship_tag": "ABX9TyP3YbSes9B1q1yGSPOSu5t8",
   "collapsed_sections": [],
   "include_colab_link": true,
   "name": "Banjo Liberation - One Notebook [Mike Copy].ipynb",
   "provenance": []
  },
  "kernelspec": {
   "display_name": "Python 3 (ipykernel)",
   "language": "python",
   "name": "python3"
  },
  "language_info": {
   "codemirror_mode": {
    "name": "ipython",
    "version": 3
   },
   "file_extension": ".py",
   "mimetype": "text/x-python",
   "name": "python",
   "nbconvert_exporter": "python",
   "pygments_lexer": "ipython3",
   "version": "3.8.8"
  }
 },
 "nbformat": 4,
 "nbformat_minor": 4
}
