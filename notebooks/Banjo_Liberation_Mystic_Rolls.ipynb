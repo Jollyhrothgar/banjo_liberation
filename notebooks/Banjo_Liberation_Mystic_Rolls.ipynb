{
  "nbformat": 4,
  "nbformat_minor": 0,
  "metadata": {
    "colab": {
      "name": "Banjo Liberation - Mystic Rolls.ipynb",
      "provenance": [],
      "collapsed_sections": [],
      "authorship_tag": "ABX9TyNLyhCV/PjDWh8WtL5BsJjQ",
      "include_colab_link": true
    },
    "kernelspec": {
      "name": "python3",
      "display_name": "Python 3"
    },
    "language_info": {
      "name": "python"
    }
  },
  "cells": [
    {
      "cell_type": "markdown",
      "metadata": {
        "id": "view-in-github",
        "colab_type": "text"
      },
      "source": [
        "<a href=\"https://colab.research.google.com/github/Jollyhrothgar/banjo_liberation/blob/main/notebooks/Banjo_Liberation_Mystic_Rolls.ipynb\" target=\"_parent\"><img src=\"https://colab.research.google.com/assets/colab-badge.svg\" alt=\"Open In Colab\"/></a>"
      ]
    },
    {
      "cell_type": "code",
      "metadata": {
        "id": "FGsW5GcClmBZ"
      },
      "source": [
        "import random\n",
        "import json\n",
        "import matplotlib.pyplot as plt"
      ],
      "execution_count": 16,
      "outputs": []
    },
    {
      "cell_type": "markdown",
      "metadata": {
        "id": "FTCmZT7ZmxeU"
      },
      "source": [
        "# Random Roll Generator\n",
        "\n",
        "This method was pair-programmed with Mike and Ricky."
      ]
    },
    {
      "cell_type": "code",
      "metadata": {
        "id": "-fcXqSJzmjm2"
      },
      "source": [
        "def generate_roll(roll_length, finger_list=['T', '1', '2']):\n",
        "  \"\"\"\n",
        "  Given a set of allowed fingers and a validator, randomly generate rolls\n",
        "  of length `roll_length`.\n",
        "\n",
        "  Args:\n",
        "    roll_length: number of notes in a roll\n",
        "    finger_list: the possible ways to strike a string\n",
        "  \"\"\"\n",
        "  return \"\".join([random.choice(finger_list) for i in range(roll_length)])\n",
        "\n",
        "def generate_all_rolls(roll_length=8, finger_list=[\"T\", \"1\", \"2\"], rolls=[]):\n",
        "  \"\"\"\n",
        "  We take a recurisve approach here, and leverage the fact that all rolls in the\n",
        "  roll list are the same length each time the function is called.\n",
        "  \"\"\"\n",
        "  if len(rolls) == 0:\n",
        "    return generate_all_rolls(roll_length=roll_length, finger_list=finger_list, rolls=finger_list)\n",
        "  elif len(rolls[0]) == roll_length:\n",
        "    return rolls\n",
        "  else:\n",
        "    new_rolls = []\n",
        "    for finger in finger_list:\n",
        "      for roll in rolls:\n",
        "        new_rolls.append(roll + finger)\n",
        "  return generate_all_rolls(roll_length=roll_length, finger_list=finger_list, rolls=new_rolls)\n",
        "  \n",
        "\n",
        "def validate_roll(roll, rule_list):\n",
        "  \"\"\"Checks roll against each rule in the rule list. All validation checks must\n",
        "  pass for a roll to be valid.\"\"\"\n",
        "  return all(rule(roll) for rule in rule_list)\n"
      ],
      "execution_count": 34,
      "outputs": []
    },
    {
      "cell_type": "code",
      "metadata": {
        "id": "1RL7_rZvyUEa"
      },
      "source": [
        "rules = [\n",
        "  lambda x: 'TT' not in x,\n",
        "  lambda x: '11' not in x,\n",
        "  lambda x: '22' not in x\n",
        "]"
      ],
      "execution_count": 20,
      "outputs": []
    },
    {
      "cell_type": "code",
      "metadata": {
        "id": "-xwTA-ryyi91"
      },
      "source": [
        "def randomly_generate_rolls(num_trials, roll_generator_kwargs, rule_list):\n",
        "  roll_counter = {}\n",
        "  for trial in range(num_trials):\n",
        "    roll_candidate = generate_roll(**roll_generator_kwargs)\n",
        "    roll = roll_candidate if validate_roll(roll_candidate, rule_list) else ''\n",
        "    if roll not in roll_counter:\n",
        "      roll_counter[roll] = 1\n",
        "    else:\n",
        "      roll_counter[roll] += 1\n",
        "  return roll_counter"
      ],
      "execution_count": 19,
      "outputs": []
    },
    {
      "cell_type": "code",
      "metadata": {
        "colab": {
          "base_uri": "https://localhost:8080/"
        },
        "id": "WNOMgzkW1vYE",
        "outputId": "eda3c3db-cb79-4070-b498-48dc999f350c"
      },
      "source": [
        "randomly_generate_rolls(num_trials=100, roll_generator_kwargs=dict(roll_length=8), rule_list=rule_list)"
      ],
      "execution_count": 32,
      "outputs": [
        {
          "output_type": "execute_result",
          "data": {
            "text/plain": [
              "{'': 91,\n",
              " '1T2T212T': 1,\n",
              " '212121T1': 1,\n",
              " '21T12T1T': 1,\n",
              " '21T2T2T2': 1,\n",
              " '2T12T121': 1,\n",
              " '2T12T21T': 1,\n",
              " '2T1T212T': 1,\n",
              " '2T21T12T': 1,\n",
              " 'T212121T': 1}"
            ]
          },
          "metadata": {
            "tags": []
          },
          "execution_count": 32
        }
      ]
    },
    {
      "cell_type": "code",
      "metadata": {
        "id": "l8ZciH5f16V2"
      },
      "source": [
        "trials = [\n",
        "    (\n",
        "        i,\n",
        "        len(randomly_generate_rolls(num_trials=i, roll_generator_kwargs=dict(roll_length=8), rule_list=rule_list).keys())\n",
        "    ) \n",
        "    for i in range(5000)\n",
        "]"
      ],
      "execution_count": 52,
      "outputs": []
    },
    {
      "cell_type": "code",
      "metadata": {
        "colab": {
          "base_uri": "https://localhost:8080/",
          "height": 282
        },
        "id": "Ht7fJ_mS35T-",
        "outputId": "57ca0c4e-f108-4d2b-9545-b56beb6cd252"
      },
      "source": [
        "trials, discovered_rolls = zip(*trials)\n",
        "plt.plot(trials, discovered_rolls)"
      ],
      "execution_count": 53,
      "outputs": [
        {
          "output_type": "execute_result",
          "data": {
            "text/plain": [
              "[<matplotlib.lines.Line2D at 0x7f8cfb6e82d0>]"
            ]
          },
          "metadata": {
            "tags": []
          },
          "execution_count": 53
        },
        {
          "output_type": "display_data",
          "data": {
            "image/png": "[encoded data removed]",
            "text/plain": [
              "<Figure size 432x288 with 1 Axes>"
            ]
          },
          "metadata": {
            "tags": [],
            "needs_background": "light"
          }
        }
      ]
    },
    {
      "cell_type": "markdown",
      "metadata": {
        "id": "EOQoQGTu6UCP"
      },
      "source": [
        "# Exhaustive Roll Generation\n",
        "\n",
        "With this method, we use recursion to recurisvely find every possible roll of any length given a finger list."
      ]
    },
    {
      "cell_type": "code",
      "metadata": {
        "id": "a9v3TgQBpUm0"
      },
      "source": [
        "# Generate all possible rolls, then remove all invalid rolls.\n",
        "rolls = generate_all_rolls()\n",
        "eight_rolls = list(filter(lambda x: validate_roll(x, rule_list=rules), rolls))\n",
        "\n",
        "rolls = generate_all_rolls(roll_length=4)\n",
        "four_rolls = list(filter(lambda x: validate_roll(x, rule_list=rules), rolls))"
      ],
      "execution_count": 37,
      "outputs": []
    },
    {
      "cell_type": "markdown",
      "metadata": {
        "id": "CzdVHTmwrOvD"
      },
      "source": [
        "Its **much** faster to recursively generate 8-note rolls."
      ]
    },
    {
      "cell_type": "code",
      "metadata": {
        "colab": {
          "base_uri": "https://localhost:8080/"
        },
        "id": "jzBZm_gxrYRk",
        "outputId": "6995dfb6-08ef-49a3-fc17-c9696d239cbc"
      },
      "source": [
        "print(len(eight_rolls))\n",
        "print(eight_rolls)"
      ],
      "execution_count": 39,
      "outputs": [
        {
          "output_type": "stream",
          "text": [
            "384\n",
            "['1T1T1T1T', '2T1T1T1T', 'T21T1T1T', '121T1T1T', '1T2T1T1T', '2T2T1T1T', 'T12T1T1T', '212T1T1T', 'T1T21T1T', '21T21T1T', 'T2T21T1T', '12T21T1T', '1T121T1T', '2T121T1T', 'T2121T1T', '12121T1T', '1T1T2T1T', '2T1T2T1T', 'T21T2T1T', '121T2T1T', '1T2T2T1T', '2T2T2T1T', 'T12T2T1T', '212T2T1T', 'T1T12T1T', '21T12T1T', 'T2T12T1T', '12T12T1T', '1T212T1T', '2T212T1T', 'T1212T1T', '21212T1T', 'T1T1T21T', '21T1T21T', 'T2T1T21T', '12T1T21T', '1T21T21T', '2T21T21T', 'T121T21T', '2121T21T', 'T1T2T21T', '21T2T21T', 'T2T2T21T', '12T2T21T', '1T12T21T', '2T12T21T', 'T212T21T', '1212T21T', '1T1T121T', '2T1T121T', 'T21T121T', '121T121T', '1T2T121T', '2T2T121T', 'T12T121T', '212T121T', 'T1T2121T', '21T2121T', 'T2T2121T', '12T2121T', '1T12121T', '2T12121T', 'T212121T', '1212121T', '1T1T1T2T', '2T1T1T2T', 'T21T1T2T', '121T1T2T', '1T2T1T2T', '2T2T1T2T', 'T12T1T2T', '212T1T2T', 'T1T21T2T', '21T21T2T', 'T2T21T2T', '12T21T2T', '1T121T2T', '2T121T2T', 'T2121T2T', '12121T2T', '1T1T2T2T', '2T1T2T2T', 'T21T2T2T', '121T2T2T', '1T2T2T2T', '2T2T2T2T', 'T12T2T2T', '212T2T2T', 'T1T12T2T', '21T12T2T', 'T2T12T2T', '12T12T2T', '1T212T2T', '2T212T2T', 'T1212T2T', '21212T2T', 'T1T1T12T', '21T1T12T', 'T2T1T12T', '12T1T12T', '1T21T12T', '2T21T12T', 'T121T12T', '2121T12T', 'T1T2T12T', '21T2T12T', 'T2T2T12T', '12T2T12T', '1T12T12T', '2T12T12T', 'T212T12T', '1212T12T', '1T1T212T', '2T1T212T', 'T21T212T', '121T212T', '1T2T212T', '2T2T212T', 'T12T212T', '212T212T', 'T1T1212T', '21T1212T', 'T2T1212T', '12T1212T', '1T21212T', '2T21212T', 'T121212T', '2121212T', 'T1T1T1T1', '21T1T1T1', 'T2T1T1T1', '12T1T1T1', '1T21T1T1', '2T21T1T1', 'T121T1T1', '2121T1T1', 'T1T2T1T1', '21T2T1T1', 'T2T2T1T1', '12T2T1T1', '1T12T1T1', '2T12T1T1', 'T212T1T1', '1212T1T1', '1T1T21T1', '2T1T21T1', 'T21T21T1', '121T21T1', '1T2T21T1', '2T2T21T1', 'T12T21T1', '212T21T1', 'T1T121T1', '21T121T1', 'T2T121T1', '12T121T1', '1T2121T1', '2T2121T1', 'T12121T1', '212121T1', 'T1T1T2T1', '21T1T2T1', 'T2T1T2T1', '12T1T2T1', '1T21T2T1', '2T21T2T1', 'T121T2T1', '2121T2T1', 'T1T2T2T1', '21T2T2T1', 'T2T2T2T1', '12T2T2T1', '1T12T2T1', '2T12T2T1', 'T212T2T1', '1212T2T1', '1T1T12T1', '2T1T12T1', 'T21T12T1', '121T12T1', '1T2T12T1', '2T2T12T1', 'T12T12T1', '212T12T1', 'T1T212T1', '21T212T1', 'T2T212T1', '12T212T1', '1T1212T1', '2T1212T1', 'T21212T1', '121212T1', '1T1T1T21', '2T1T1T21', 'T21T1T21', '121T1T21', '1T2T1T21', '2T2T1T21', 'T12T1T21', '212T1T21', 'T1T21T21', '21T21T21', 'T2T21T21', '12T21T21', '1T121T21', '2T121T21', 'T2121T21', '12121T21', '1T1T2T21', '2T1T2T21', 'T21T2T21', '121T2T21', '1T2T2T21', '2T2T2T21', 'T12T2T21', '212T2T21', 'T1T12T21', '21T12T21', 'T2T12T21', '12T12T21', '1T212T21', '2T212T21', 'T1212T21', '21212T21', 'T1T1T121', '21T1T121', 'T2T1T121', '12T1T121', '1T21T121', '2T21T121', 'T121T121', '2121T121', 'T1T2T121', '21T2T121', 'T2T2T121', '12T2T121', '1T12T121', '2T12T121', 'T212T121', '1212T121', '1T1T2121', '2T1T2121', 'T21T2121', '121T2121', '1T2T2121', '2T2T2121', 'T12T2121', '212T2121', 'T1T12121', '21T12121', 'T2T12121', '12T12121', '1T212121', '2T212121', 'T1212121', '21212121', 'T1T1T1T2', '21T1T1T2', 'T2T1T1T2', '12T1T1T2', '1T21T1T2', '2T21T1T2', 'T121T1T2', '2121T1T2', 'T1T2T1T2', '21T2T1T2', 'T2T2T1T2', '12T2T1T2', '1T12T1T2', '2T12T1T2', 'T212T1T2', '1212T1T2', '1T1T21T2', '2T1T21T2', 'T21T21T2', '121T21T2', '1T2T21T2', '2T2T21T2', 'T12T21T2', '212T21T2', 'T1T121T2', '21T121T2', 'T2T121T2', '12T121T2', '1T2121T2', '2T2121T2', 'T12121T2', '212121T2', 'T1T1T2T2', '21T1T2T2', 'T2T1T2T2', '12T1T2T2', '1T21T2T2', '2T21T2T2', 'T121T2T2', '2121T2T2', 'T1T2T2T2', '21T2T2T2', 'T2T2T2T2', '12T2T2T2', '1T12T2T2', '2T12T2T2', 'T212T2T2', '1212T2T2', '1T1T12T2', '2T1T12T2', 'T21T12T2', '121T12T2', '1T2T12T2', '2T2T12T2', 'T12T12T2', '212T12T2', 'T1T212T2', '21T212T2', 'T2T212T2', '12T212T2', '1T1212T2', '2T1212T2', 'T21212T2', '121212T2', '1T1T1T12', '2T1T1T12', 'T21T1T12', '121T1T12', '1T2T1T12', '2T2T1T12', 'T12T1T12', '212T1T12', 'T1T21T12', '21T21T12', 'T2T21T12', '12T21T12', '1T121T12', '2T121T12', 'T2121T12', '12121T12', '1T1T2T12', '2T1T2T12', 'T21T2T12', '121T2T12', '1T2T2T12', '2T2T2T12', 'T12T2T12', '212T2T12', 'T1T12T12', '21T12T12', 'T2T12T12', '12T12T12', '1T212T12', '2T212T12', 'T1212T12', '21212T12', 'T1T1T212', '21T1T212', 'T2T1T212', '12T1T212', '1T21T212', '2T21T212', 'T121T212', '2121T212', 'T1T2T212', '21T2T212', 'T2T2T212', '12T2T212', '1T12T212', '2T12T212', 'T212T212', '1212T212', '1T1T1212', '2T1T1212', 'T21T1212', '121T1212', '1T2T1212', '2T2T1212', 'T12T1212', '212T1212', 'T1T21212', '21T21212', 'T2T21212', '12T21212', '1T121212', '2T121212', 'T2121212', '12121212']\n"
          ],
          "name": "stdout"
        }
      ]
    },
    {
      "cell_type": "code",
      "metadata": {
        "colab": {
          "base_uri": "https://localhost:8080/"
        },
        "id": "aYCTpOWRrZi3",
        "outputId": "a89eed53-cc72-4850-8990-1659804eaeeb"
      },
      "source": [
        "print(len(four_rolls))\n",
        "print(four_rolls)"
      ],
      "execution_count": 40,
      "outputs": [
        {
          "output_type": "stream",
          "text": [
            "24\n",
            "['1T1T', '2T1T', 'T21T', '121T', '1T2T', '2T2T', 'T12T', '212T', 'T1T1', '21T1', 'T2T1', '12T1', '1T21', '2T21', 'T121', '2121', 'T1T2', '21T2', 'T2T2', '12T2', '1T12', '2T12', 'T212', '1212']\n"
          ],
          "name": "stdout"
        }
      ]
    },
    {
      "cell_type": "markdown",
      "metadata": {
        "id": "WF317hiNttic"
      },
      "source": [
        "Do all four note rolls combine to all eight note rolls?"
      ]
    },
    {
      "cell_type": "code",
      "metadata": {
        "id": "bkLhGD-CuZcW"
      },
      "source": [
        "new_rolls = []\n",
        "for roll_1 in four_rolls:\n",
        "  for roll_2 in four_rolls:\n",
        "    new_rolls.append(roll_1 + roll_2)"
      ],
      "execution_count": 41,
      "outputs": []
    },
    {
      "cell_type": "code",
      "metadata": {
        "id": "5tfvVeeGunIl"
      },
      "source": [
        "eight_from_four = list(filter(lambda x: validate_roll(x, rule_list=rules), new_rolls))"
      ],
      "execution_count": 44,
      "outputs": []
    },
    {
      "cell_type": "code",
      "metadata": {
        "colab": {
          "base_uri": "https://localhost:8080/"
        },
        "id": "ChJzjolpux5c",
        "outputId": "7158bf91-b9ca-4345-f7ba-ae6520164441"
      },
      "source": [
        "print(len(eight_from_four))\n",
        "print(eight_from_four)"
      ],
      "execution_count": 45,
      "outputs": [
        {
          "output_type": "stream",
          "text": [
            "384\n",
            "['1T1T1T1T', '1T1T2T1T', '1T1T121T', '1T1T1T2T', '1T1T2T2T', '1T1T212T', '1T1T21T1', '1T1T12T1', '1T1T1T21', '1T1T2T21', '1T1T2121', '1T1T21T2', '1T1T12T2', '1T1T1T12', '1T1T2T12', '1T1T1212', '2T1T1T1T', '2T1T2T1T', '2T1T121T', '2T1T1T2T', '2T1T2T2T', '2T1T212T', '2T1T21T1', '2T1T12T1', '2T1T1T21', '2T1T2T21', '2T1T2121', '2T1T21T2', '2T1T12T2', '2T1T1T12', '2T1T2T12', '2T1T1212', 'T21T1T1T', 'T21T2T1T', 'T21T121T', 'T21T1T2T', 'T21T2T2T', 'T21T212T', 'T21T21T1', 'T21T12T1', 'T21T1T21', 'T21T2T21', 'T21T2121', 'T21T21T2', 'T21T12T2', 'T21T1T12', 'T21T2T12', 'T21T1212', '121T1T1T', '121T2T1T', '121T121T', '121T1T2T', '121T2T2T', '121T212T', '121T21T1', '121T12T1', '121T1T21', '121T2T21', '121T2121', '121T21T2', '121T12T2', '121T1T12', '121T2T12', '121T1212', '1T2T1T1T', '1T2T2T1T', '1T2T121T', '1T2T1T2T', '1T2T2T2T', '1T2T212T', '1T2T21T1', '1T2T12T1', '1T2T1T21', '1T2T2T21', '1T2T2121', '1T2T21T2', '1T2T12T2', '1T2T1T12', '1T2T2T12', '1T2T1212', '2T2T1T1T', '2T2T2T1T', '2T2T121T', '2T2T1T2T', '2T2T2T2T', '2T2T212T', '2T2T21T1', '2T2T12T1', '2T2T1T21', '2T2T2T21', '2T2T2121', '2T2T21T2', '2T2T12T2', '2T2T1T12', '2T2T2T12', '2T2T1212', 'T12T1T1T', 'T12T2T1T', 'T12T121T', 'T12T1T2T', 'T12T2T2T', 'T12T212T', 'T12T21T1', 'T12T12T1', 'T12T1T21', 'T12T2T21', 'T12T2121', 'T12T21T2', 'T12T12T2', 'T12T1T12', 'T12T2T12', 'T12T1212', '212T1T1T', '212T2T1T', '212T121T', '212T1T2T', '212T2T2T', '212T212T', '212T21T1', '212T12T1', '212T1T21', '212T2T21', '212T2121', '212T21T2', '212T12T2', '212T1T12', '212T2T12', '212T1212', 'T1T12T1T', 'T1T1T21T', 'T1T12T2T', 'T1T1T12T', 'T1T1212T', 'T1T1T1T1', 'T1T121T1', 'T1T1T2T1', 'T1T12T21', 'T1T1T121', 'T1T12121', 'T1T1T1T2', 'T1T121T2', 'T1T1T2T2', 'T1T12T12', 'T1T1T212', '21T12T1T', '21T1T21T', '21T12T2T', '21T1T12T', '21T1212T', '21T1T1T1', '21T121T1', '21T1T2T1', '21T12T21', '21T1T121', '21T12121', '21T1T1T2', '21T121T2', '21T1T2T2', '21T12T12', '21T1T212', 'T2T12T1T', 'T2T1T21T', 'T2T12T2T', 'T2T1T12T', 'T2T1212T', 'T2T1T1T1', 'T2T121T1', 'T2T1T2T1', 'T2T12T21', 'T2T1T121', 'T2T12121', 'T2T1T1T2', 'T2T121T2', 'T2T1T2T2', 'T2T12T12', 'T2T1T212', '12T12T1T', '12T1T21T', '12T12T2T', '12T1T12T', '12T1212T', '12T1T1T1', '12T121T1', '12T1T2T1', '12T12T21', '12T1T121', '12T12121', '12T1T1T2', '12T121T2', '12T1T2T2', '12T12T12', '12T1T212', '1T212T1T', '1T21T21T', '1T212T2T', '1T21T12T', '1T21212T', '1T21T1T1', '1T2121T1', '1T21T2T1', '1T212T21', '1T21T121', '1T212121', '1T21T1T2', '1T2121T2', '1T21T2T2', '1T212T12', '1T21T212', '2T212T1T', '2T21T21T', '2T212T2T', '2T21T12T', '2T21212T', '2T21T1T1', '2T2121T1', '2T21T2T1', '2T212T21', '2T21T121', '2T212121', '2T21T1T2', '2T2121T2', '2T21T2T2', '2T212T12', '2T21T212', 'T1212T1T', 'T121T21T', 'T1212T2T', 'T121T12T', 'T121212T', 'T121T1T1', 'T12121T1', 'T121T2T1', 'T1212T21', 'T121T121', 'T1212121', 'T121T1T2', 'T12121T2', 'T121T2T2', 'T1212T12', 'T121T212', '21212T1T', '2121T21T', '21212T2T', '2121T12T', '2121212T', '2121T1T1', '212121T1', '2121T2T1', '21212T21', '2121T121', '21212121', '2121T1T2', '212121T2', '2121T2T2', '21212T12', '2121T212', 'T1T21T1T', 'T1T2T21T', 'T1T2121T', 'T1T21T2T', 'T1T2T12T', 'T1T2T1T1', 'T1T2T2T1', 'T1T212T1', 'T1T21T21', 'T1T2T121', 'T1T2T1T2', 'T1T2T2T2', 'T1T212T2', 'T1T21T12', 'T1T2T212', 'T1T21212', '21T21T1T', '21T2T21T', '21T2121T', '21T21T2T', '21T2T12T', '21T2T1T1', '21T2T2T1', '21T212T1', '21T21T21', '21T2T121', '21T2T1T2', '21T2T2T2', '21T212T2', '21T21T12', '21T2T212', '21T21212', 'T2T21T1T', 'T2T2T21T', 'T2T2121T', 'T2T21T2T', 'T2T2T12T', 'T2T2T1T1', 'T2T2T2T1', 'T2T212T1', 'T2T21T21', 'T2T2T121', 'T2T2T1T2', 'T2T2T2T2', 'T2T212T2', 'T2T21T12', 'T2T2T212', 'T2T21212', '12T21T1T', '12T2T21T', '12T2121T', '12T21T2T', '12T2T12T', '12T2T1T1', '12T2T2T1', '12T212T1', '12T21T21', '12T2T121', '12T2T1T2', '12T2T2T2', '12T212T2', '12T21T12', '12T2T212', '12T21212', '1T121T1T', '1T12T21T', '1T12121T', '1T121T2T', '1T12T12T', '1T12T1T1', '1T12T2T1', '1T1212T1', '1T121T21', '1T12T121', '1T12T1T2', '1T12T2T2', '1T1212T2', '1T121T12', '1T12T212', '1T121212', '2T121T1T', '2T12T21T', '2T12121T', '2T121T2T', '2T12T12T', '2T12T1T1', '2T12T2T1', '2T1212T1', '2T121T21', '2T12T121', '2T12T1T2', '2T12T2T2', '2T1212T2', '2T121T12', '2T12T212', '2T121212', 'T2121T1T', 'T212T21T', 'T212121T', 'T2121T2T', 'T212T12T', 'T212T1T1', 'T212T2T1', 'T21212T1', 'T2121T21', 'T212T121', 'T212T1T2', 'T212T2T2', 'T21212T2', 'T2121T12', 'T212T212', 'T2121212', '12121T1T', '1212T21T', '1212121T', '12121T2T', '1212T12T', '1212T1T1', '1212T2T1', '121212T1', '12121T21', '1212T121', '1212T1T2', '1212T2T2', '121212T2', '12121T12', '1212T212', '12121212']\n"
          ],
          "name": "stdout"
        }
      ]
    },
    {
      "cell_type": "markdown",
      "metadata": {
        "id": "fUsMnc9yu3C3"
      },
      "source": [
        "YES! So, all eight-note rolls are composed of two four note rolls. So, we only have to learn TWENTY FOUR rolls."
      ]
    },
    {
      "cell_type": "code",
      "metadata": {
        "id": "ycSRDJoPvfX-"
      },
      "source": [
        ""
      ],
      "execution_count": null,
      "outputs": []
    }
  ]
}