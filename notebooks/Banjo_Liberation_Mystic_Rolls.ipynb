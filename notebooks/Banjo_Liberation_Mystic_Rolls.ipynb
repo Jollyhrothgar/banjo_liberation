{
 "cells": [
  {
   "cell_type": "code",
   "execution_count": 1,
   "metadata": {
    "id": "FGsW5GcClmBZ"
   },
   "outputs": [],
   "source": [
    "import random\n",
    "import json\n",
    "import matplotlib.pyplot as plt"
   ]
  },
  {
   "cell_type": "code",
   "execution_count": 2,
   "metadata": {
    "id": "1RL7_rZvyUEa"
   },
   "outputs": [],
   "source": [
    "# Rolls must not have two right-hand fingerings in a row.\n",
    "# T -> Thumb\n",
    "# 1 -> Index\n",
    "# 2 -> Middle\n",
    "# * -> Rest\n",
    "fingerings = [\"T\", \"1\", \"2\", \"*\"]\n",
    "\n",
    "rules = [\n",
    "    lambda x: \"TT\" not in x,\n",
    "    lambda x: \"11\" not in x,\n",
    "    lambda x: \"22\" not in x,\n",
    "    lambda x: \"**\" not in x,\n",
    "    lambda x: x[0] != \"*\" \n",
    "]"
   ]
  },
  {
   "cell_type": "markdown",
   "metadata": {
    "id": "FTCmZT7ZmxeU"
   },
   "source": [
    "# Random Roll Generator\n",
    "\n",
    "This method was pair-programmed with Mike and Ricky - it randomly generates rolls with no guarantee of getting \"all rolls\". There are statistical guarantees to get them all, but it must be calculated by simulation."
   ]
  },
  {
   "cell_type": "code",
   "execution_count": 3,
   "metadata": {
    "id": "-fcXqSJzmjm2"
   },
   "outputs": [],
   "source": [
    "def generate_roll(finger_list, roll_length=8):\n",
    "    \"\"\"\n",
    "    Given a set of allowed fingers and a validator, randomly generate rolls\n",
    "    of length `roll_length`.\n",
    "    \n",
    "    Args:\n",
    "        roll_length: number of notes in a roll\n",
    "        finger_list: the possible ways to strike a string\n",
    "    \"\"\"\n",
    "    return \"\".join([random.choice(finger_list) for i in range(roll_length)])\n"
   ]
  },
  {
   "cell_type": "code",
   "execution_count": 4,
   "metadata": {
    "id": "-xwTA-ryyi91"
   },
   "outputs": [],
   "source": [
    "def randomly_generate_rolls(num_trials, roll_generator_kwargs, rule_list):\n",
    "    \"\"\"This wraps the random roll generator so that we can generate a bunch of\n",
    "    them all at once. No guarantee of getting 'em all!\"\"\"\n",
    "    roll_counter = {}\n",
    "    for trial in range(num_trials):\n",
    "        roll_candidate = generate_roll(**roll_generator_kwargs)\n",
    "        # Check roll against the rule list with a ternary operator.\n",
    "        roll = roll_candidate if all(rule(roll_candidate) for rule in rule_list) else 'inval'\n",
    "        if roll not in roll_counter:\n",
    "            roll_counter[roll] = 1\n",
    "        else:\n",
    "            roll_counter[roll] += 1\n",
    "    return roll_counter"
   ]
  },
  {
   "cell_type": "markdown",
   "metadata": {
    "id": "fOl_eyTCIUIq"
   },
   "source": [
    "This method exhaustively iterates through all possible combinations recursively."
   ]
  },
  {
   "cell_type": "code",
   "execution_count": 5,
   "metadata": {
    "id": "ZY6JmbNlIXTz"
   },
   "outputs": [],
   "source": [
    "def generate_all_rolls(finger_list, roll_length=8, rolls=[]):\n",
    "    \"\"\"\n",
    "    We take a recurisve approach here, and leverage the fact that all rolls in the\n",
    "    roll list are the same length each time the function is called.\n",
    "    \"\"\"\n",
    "    if len(rolls) == 0:\n",
    "        return generate_all_rolls(roll_length=roll_length, finger_list=finger_list, rolls=finger_list)\n",
    "    elif len(rolls[0]) == roll_length:\n",
    "        return rolls\n",
    "    else:\n",
    "        new_rolls = []\n",
    "        for finger in finger_list:\n",
    "            for roll in rolls:\n",
    "                new_rolls.append(roll + finger)\n",
    "    return generate_all_rolls(roll_length=roll_length, finger_list=finger_list, rolls=new_rolls)"
   ]
  },
  {
   "cell_type": "code",
   "execution_count": 6,
   "metadata": {
    "colab": {
     "base_uri": "https://localhost:8080/"
    },
    "id": "WNOMgzkW1vYE",
    "outputId": "d9c16530-8634-492f-8771-f1b518ffe830"
   },
   "outputs": [
    {
     "data": {
      "text/plain": [
       "{'inval': 98, '21T212T2': 1, 'T1T21T1T': 1}"
      ]
     },
     "execution_count": 6,
     "metadata": {},
     "output_type": "execute_result"
    }
   ],
   "source": [
    "randomly_generate_rolls(\n",
    "    num_trials=100,\n",
    "    roll_generator_kwargs=dict(roll_length=8, finger_list=[\"T\", \"1\", \"2\"]),\n",
    "    rule_list=rules\n",
    ")"
   ]
  },
  {
   "cell_type": "code",
   "execution_count": 7,
   "metadata": {
    "colab": {
     "base_uri": "https://localhost:8080/"
    },
    "id": "l8ZciH5f16V2",
    "outputId": "05fd9c82-776d-4e6b-ee5f-2ba28e6afb1e"
   },
   "outputs": [
    {
     "name": "stdout",
     "output_type": "stream",
     "text": [
      "Running trial 100\n",
      "Running trial 5100\n",
      "Running trial 10100\n",
      "Running trial 15100\n",
      "Running trial 20100\n",
      "Running trial 25100\n",
      "Running trial 30100\n",
      "Running trial 35100\n",
      "Running trial 40100\n",
      "Running trial 45100\n",
      "Running trial 50100\n",
      "Running trial 55100\n",
      "Running trial 60100\n",
      "Running trial 65100\n",
      "Running trial 70100\n",
      "Running trial 75100\n",
      "Running trial 80100\n",
      "Running trial 85100\n",
      "Running trial 90100\n",
      "Running trial 95100\n"
     ]
    }
   ],
   "source": [
    "results = []\n",
    "for i in range(100, 100000, 5000):\n",
    "    print(f\"Running trial {i}\")\n",
    "    results.append((\n",
    "        i,\n",
    "        randomly_generate_rolls(\n",
    "            num_trials=i,\n",
    "            roll_generator_kwargs=dict(\n",
    "                roll_length=8,\n",
    "                finger_list=[\"T\", \"1\", \"2\"]\n",
    "          ),\n",
    "          rule_list=rules\n",
    "      )\n",
    "    ))"
   ]
  },
  {
   "cell_type": "code",
   "execution_count": 8,
   "metadata": {
    "colab": {
     "base_uri": "https://localhost:8080/",
     "height": 284
    },
    "id": "Ht7fJ_mS35T-",
    "outputId": "e6d66b25-54ce-455f-ba48-c736e2a67932"
   },
   "outputs": [
    {
     "data": {
      "text/plain": [
       "[<matplotlib.lines.Line2D at 0x7bffa61f6610>]"
      ]
     },
     "execution_count": 8,
     "metadata": {},
     "output_type": "execute_result"
    },
    {
     "data": {
      "image/png": "[encoded data removed]",
      "text/plain": [
       "<Figure size 432x288 with 1 Axes>"
      ]
     },
     "metadata": {
      "needs_background": "light"
     },
     "output_type": "display_data"
    }
   ],
   "source": [
    "trials, num_discovered_rolls = zip(*[(result[0], len(result[1].keys())) for result in results])\n",
    "plt.plot(trials, num_discovered_rolls)"
   ]
  },
  {
   "cell_type": "markdown",
   "metadata": {
    "id": "jaarDs4BONqJ"
   },
   "source": [
    "It looks like we have to run around 50,000 to 60,000 trials to \"guarantee\" finding all the rolls, which in this case seems to be in the high 300s. However, we can exhaustively generate all rolls using recursion."
   ]
  },
  {
   "cell_type": "markdown",
   "metadata": {
    "id": "EOQoQGTu6UCP"
   },
   "source": [
    "# Exhaustive Roll Generation\n",
    "\n",
    "With this method, we use recursion to recurisvely find every possible roll of any length given a finger list."
   ]
  },
  {
   "cell_type": "code",
   "execution_count": 9,
   "metadata": {
    "id": "a9v3TgQBpUm0"
   },
   "outputs": [],
   "source": [
    "# Generate all possible rolls, removing invalid rolls.\n",
    "rolls = generate_all_rolls(finger_list=[\"T\", \"1\", \"2\"], roll_length=8)\n",
    "eight_rolls = list(filter(lambda x: all(rule(x) for rule in rules), rolls))\n",
    "\n",
    "rolls = generate_all_rolls(finger_list=[\"T\", \"1\", \"2\"], roll_length=4)\n",
    "four_rolls = list(filter(lambda x: all(rule(x) for rule in rules), rolls))"
   ]
  },
  {
   "cell_type": "markdown",
   "metadata": {
    "id": "CzdVHTmwrOvD"
   },
   "source": [
    "Its **much** faster to recursively generate 8-note rolls."
   ]
  },
  {
   "cell_type": "code",
   "execution_count": 10,
   "metadata": {
    "colab": {
     "base_uri": "https://localhost:8080/"
    },
    "id": "jzBZm_gxrYRk",
    "outputId": "9472a03e-8b7c-4705-e753-131302887d75"
   },
   "outputs": [
    {
     "name": "stdout",
     "output_type": "stream",
     "text": [
      "384\n",
      "['1T1T1T1T', '2T1T1T1T', 'T21T1T1T', '121T1T1T', '1T2T1T1T', '2T2T1T1T', 'T12T1T1T', '212T1T1T', 'T1T21T1T', '21T21T1T', 'T2T21T1T', '12T21T1T', '1T121T1T', '2T121T1T', 'T2121T1T', '12121T1T', '1T1T2T1T', '2T1T2T1T', 'T21T2T1T', '121T2T1T', '1T2T2T1T', '2T2T2T1T', 'T12T2T1T', '212T2T1T', 'T1T12T1T', '21T12T1T', 'T2T12T1T', '12T12T1T', '1T212T1T', '2T212T1T', 'T1212T1T', '21212T1T', 'T1T1T21T', '21T1T21T', 'T2T1T21T', '12T1T21T', '1T21T21T', '2T21T21T', 'T121T21T', '2121T21T', 'T1T2T21T', '21T2T21T', 'T2T2T21T', '12T2T21T', '1T12T21T', '2T12T21T', 'T212T21T', '1212T21T', '1T1T121T', '2T1T121T', 'T21T121T', '121T121T', '1T2T121T', '2T2T121T', 'T12T121T', '212T121T', 'T1T2121T', '21T2121T', 'T2T2121T', '12T2121T', '1T12121T', '2T12121T', 'T212121T', '1212121T', '1T1T1T2T', '2T1T1T2T', 'T21T1T2T', '121T1T2T', '1T2T1T2T', '2T2T1T2T', 'T12T1T2T', '212T1T2T', 'T1T21T2T', '21T21T2T', 'T2T21T2T', '12T21T2T', '1T121T2T', '2T121T2T', 'T2121T2T', '12121T2T', '1T1T2T2T', '2T1T2T2T', 'T21T2T2T', '121T2T2T', '1T2T2T2T', '2T2T2T2T', 'T12T2T2T', '212T2T2T', 'T1T12T2T', '21T12T2T', 'T2T12T2T', '12T12T2T', '1T212T2T', '2T212T2T', 'T1212T2T', '21212T2T', 'T1T1T12T', '21T1T12T', 'T2T1T12T', '12T1T12T', '1T21T12T', '2T21T12T', 'T121T12T', '2121T12T', 'T1T2T12T', '21T2T12T', 'T2T2T12T', '12T2T12T', '1T12T12T', '2T12T12T', 'T212T12T', '1212T12T', '1T1T212T', '2T1T212T', 'T21T212T', '121T212T', '1T2T212T', '2T2T212T', 'T12T212T', '212T212T', 'T1T1212T', '21T1212T', 'T2T1212T', '12T1212T', '1T21212T', '2T21212T', 'T121212T', '2121212T', 'T1T1T1T1', '21T1T1T1', 'T2T1T1T1', '12T1T1T1', '1T21T1T1', '2T21T1T1', 'T121T1T1', '2121T1T1', 'T1T2T1T1', '21T2T1T1', 'T2T2T1T1', '12T2T1T1', '1T12T1T1', '2T12T1T1', 'T212T1T1', '1212T1T1', '1T1T21T1', '2T1T21T1', 'T21T21T1', '121T21T1', '1T2T21T1', '2T2T21T1', 'T12T21T1', '212T21T1', 'T1T121T1', '21T121T1', 'T2T121T1', '12T121T1', '1T2121T1', '2T2121T1', 'T12121T1', '212121T1', 'T1T1T2T1', '21T1T2T1', 'T2T1T2T1', '12T1T2T1', '1T21T2T1', '2T21T2T1', 'T121T2T1', '2121T2T1', 'T1T2T2T1', '21T2T2T1', 'T2T2T2T1', '12T2T2T1', '1T12T2T1', '2T12T2T1', 'T212T2T1', '1212T2T1', '1T1T12T1', '2T1T12T1', 'T21T12T1', '121T12T1', '1T2T12T1', '2T2T12T1', 'T12T12T1', '212T12T1', 'T1T212T1', '21T212T1', 'T2T212T1', '12T212T1', '1T1212T1', '2T1212T1', 'T21212T1', '121212T1', '1T1T1T21', '2T1T1T21', 'T21T1T21', '121T1T21', '1T2T1T21', '2T2T1T21', 'T12T1T21', '212T1T21', 'T1T21T21', '21T21T21', 'T2T21T21', '12T21T21', '1T121T21', '2T121T21', 'T2121T21', '12121T21', '1T1T2T21', '2T1T2T21', 'T21T2T21', '121T2T21', '1T2T2T21', '2T2T2T21', 'T12T2T21', '212T2T21', 'T1T12T21', '21T12T21', 'T2T12T21', '12T12T21', '1T212T21', '2T212T21', 'T1212T21', '21212T21', 'T1T1T121', '21T1T121', 'T2T1T121', '12T1T121', '1T21T121', '2T21T121', 'T121T121', '2121T121', 'T1T2T121', '21T2T121', 'T2T2T121', '12T2T121', '1T12T121', '2T12T121', 'T212T121', '1212T121', '1T1T2121', '2T1T2121', 'T21T2121', '121T2121', '1T2T2121', '2T2T2121', 'T12T2121', '212T2121', 'T1T12121', '21T12121', 'T2T12121', '12T12121', '1T212121', '2T212121', 'T1212121', '21212121', 'T1T1T1T2', '21T1T1T2', 'T2T1T1T2', '12T1T1T2', '1T21T1T2', '2T21T1T2', 'T121T1T2', '2121T1T2', 'T1T2T1T2', '21T2T1T2', 'T2T2T1T2', '12T2T1T2', '1T12T1T2', '2T12T1T2', 'T212T1T2', '1212T1T2', '1T1T21T2', '2T1T21T2', 'T21T21T2', '121T21T2', '1T2T21T2', '2T2T21T2', 'T12T21T2', '212T21T2', 'T1T121T2', '21T121T2', 'T2T121T2', '12T121T2', '1T2121T2', '2T2121T2', 'T12121T2', '212121T2', 'T1T1T2T2', '21T1T2T2', 'T2T1T2T2', '12T1T2T2', '1T21T2T2', '2T21T2T2', 'T121T2T2', '2121T2T2', 'T1T2T2T2', '21T2T2T2', 'T2T2T2T2', '12T2T2T2', '1T12T2T2', '2T12T2T2', 'T212T2T2', '1212T2T2', '1T1T12T2', '2T1T12T2', 'T21T12T2', '121T12T2', '1T2T12T2', '2T2T12T2', 'T12T12T2', '212T12T2', 'T1T212T2', '21T212T2', 'T2T212T2', '12T212T2', '1T1212T2', '2T1212T2', 'T21212T2', '121212T2', '1T1T1T12', '2T1T1T12', 'T21T1T12', '121T1T12', '1T2T1T12', '2T2T1T12', 'T12T1T12', '212T1T12', 'T1T21T12', '21T21T12', 'T2T21T12', '12T21T12', '1T121T12', '2T121T12', 'T2121T12', '12121T12', '1T1T2T12', '2T1T2T12', 'T21T2T12', '121T2T12', '1T2T2T12', '2T2T2T12', 'T12T2T12', '212T2T12', 'T1T12T12', '21T12T12', 'T2T12T12', '12T12T12', '1T212T12', '2T212T12', 'T1212T12', '21212T12', 'T1T1T212', '21T1T212', 'T2T1T212', '12T1T212', '1T21T212', '2T21T212', 'T121T212', '2121T212', 'T1T2T212', '21T2T212', 'T2T2T212', '12T2T212', '1T12T212', '2T12T212', 'T212T212', '1212T212', '1T1T1212', '2T1T1212', 'T21T1212', '121T1212', '1T2T1212', '2T2T1212', 'T12T1212', '212T1212', 'T1T21212', '21T21212', 'T2T21212', '12T21212', '1T121212', '2T121212', 'T2121212', '12121212']\n"
     ]
    }
   ],
   "source": [
    "print(len(eight_rolls))\n",
    "print(eight_rolls)"
   ]
  },
  {
   "cell_type": "code",
   "execution_count": 11,
   "metadata": {
    "colab": {
     "base_uri": "https://localhost:8080/"
    },
    "id": "aYCTpOWRrZi3",
    "outputId": "b1eefefa-898b-44ed-9efe-c9385d548520"
   },
   "outputs": [
    {
     "name": "stdout",
     "output_type": "stream",
     "text": [
      "24\n",
      "['1T1T', '2T1T', 'T21T', '121T', '1T2T', '2T2T', 'T12T', '212T', 'T1T1', '21T1', 'T2T1', '12T1', '1T21', '2T21', 'T121', '2121', 'T1T2', '21T2', 'T2T2', '12T2', '1T12', '2T12', 'T212', '1212']\n"
     ]
    }
   ],
   "source": [
    "print(len(four_rolls))\n",
    "print(four_rolls)"
   ]
  },
  {
   "cell_type": "markdown",
   "metadata": {
    "id": "WF317hiNttic"
   },
   "source": [
    "Do all four note rolls combine to all eight note rolls? We create all possible eight note rolls from pairs of four note rolls, then remove invalid rolls."
   ]
  },
  {
   "cell_type": "code",
   "execution_count": 12,
   "metadata": {
    "id": "bkLhGD-CuZcW"
   },
   "outputs": [],
   "source": [
    "new_rolls = []\n",
    "for roll_1 in four_rolls:\n",
    "    for roll_2 in four_rolls:\n",
    "        new_rolls.append(roll_1 + roll_2)"
   ]
  },
  {
   "cell_type": "code",
   "execution_count": 13,
   "metadata": {
    "id": "5tfvVeeGunIl"
   },
   "outputs": [],
   "source": [
    "eight_from_four = list(filter(lambda x: all(rule(x) for rule in rules), new_rolls))"
   ]
  },
  {
   "cell_type": "code",
   "execution_count": 14,
   "metadata": {
    "colab": {
     "base_uri": "https://localhost:8080/"
    },
    "id": "ChJzjolpux5c",
    "outputId": "11b9e91a-53b8-4490-ac3a-aede625f1815"
   },
   "outputs": [
    {
     "name": "stdout",
     "output_type": "stream",
     "text": [
      "384\n",
      "['1T1T1T1T', '1T1T2T1T', '1T1T121T', '1T1T1T2T', '1T1T2T2T', '1T1T212T', '1T1T21T1', '1T1T12T1', '1T1T1T21', '1T1T2T21', '1T1T2121', '1T1T21T2', '1T1T12T2', '1T1T1T12', '1T1T2T12', '1T1T1212', '2T1T1T1T', '2T1T2T1T', '2T1T121T', '2T1T1T2T', '2T1T2T2T', '2T1T212T', '2T1T21T1', '2T1T12T1', '2T1T1T21', '2T1T2T21', '2T1T2121', '2T1T21T2', '2T1T12T2', '2T1T1T12', '2T1T2T12', '2T1T1212', 'T21T1T1T', 'T21T2T1T', 'T21T121T', 'T21T1T2T', 'T21T2T2T', 'T21T212T', 'T21T21T1', 'T21T12T1', 'T21T1T21', 'T21T2T21', 'T21T2121', 'T21T21T2', 'T21T12T2', 'T21T1T12', 'T21T2T12', 'T21T1212', '121T1T1T', '121T2T1T', '121T121T', '121T1T2T', '121T2T2T', '121T212T', '121T21T1', '121T12T1', '121T1T21', '121T2T21', '121T2121', '121T21T2', '121T12T2', '121T1T12', '121T2T12', '121T1212', '1T2T1T1T', '1T2T2T1T', '1T2T121T', '1T2T1T2T', '1T2T2T2T', '1T2T212T', '1T2T21T1', '1T2T12T1', '1T2T1T21', '1T2T2T21', '1T2T2121', '1T2T21T2', '1T2T12T2', '1T2T1T12', '1T2T2T12', '1T2T1212', '2T2T1T1T', '2T2T2T1T', '2T2T121T', '2T2T1T2T', '2T2T2T2T', '2T2T212T', '2T2T21T1', '2T2T12T1', '2T2T1T21', '2T2T2T21', '2T2T2121', '2T2T21T2', '2T2T12T2', '2T2T1T12', '2T2T2T12', '2T2T1212', 'T12T1T1T', 'T12T2T1T', 'T12T121T', 'T12T1T2T', 'T12T2T2T', 'T12T212T', 'T12T21T1', 'T12T12T1', 'T12T1T21', 'T12T2T21', 'T12T2121', 'T12T21T2', 'T12T12T2', 'T12T1T12', 'T12T2T12', 'T12T1212', '212T1T1T', '212T2T1T', '212T121T', '212T1T2T', '212T2T2T', '212T212T', '212T21T1', '212T12T1', '212T1T21', '212T2T21', '212T2121', '212T21T2', '212T12T2', '212T1T12', '212T2T12', '212T1212', 'T1T12T1T', 'T1T1T21T', 'T1T12T2T', 'T1T1T12T', 'T1T1212T', 'T1T1T1T1', 'T1T121T1', 'T1T1T2T1', 'T1T12T21', 'T1T1T121', 'T1T12121', 'T1T1T1T2', 'T1T121T2', 'T1T1T2T2', 'T1T12T12', 'T1T1T212', '21T12T1T', '21T1T21T', '21T12T2T', '21T1T12T', '21T1212T', '21T1T1T1', '21T121T1', '21T1T2T1', '21T12T21', '21T1T121', '21T12121', '21T1T1T2', '21T121T2', '21T1T2T2', '21T12T12', '21T1T212', 'T2T12T1T', 'T2T1T21T', 'T2T12T2T', 'T2T1T12T', 'T2T1212T', 'T2T1T1T1', 'T2T121T1', 'T2T1T2T1', 'T2T12T21', 'T2T1T121', 'T2T12121', 'T2T1T1T2', 'T2T121T2', 'T2T1T2T2', 'T2T12T12', 'T2T1T212', '12T12T1T', '12T1T21T', '12T12T2T', '12T1T12T', '12T1212T', '12T1T1T1', '12T121T1', '12T1T2T1', '12T12T21', '12T1T121', '12T12121', '12T1T1T2', '12T121T2', '12T1T2T2', '12T12T12', '12T1T212', '1T212T1T', '1T21T21T', '1T212T2T', '1T21T12T', '1T21212T', '1T21T1T1', '1T2121T1', '1T21T2T1', '1T212T21', '1T21T121', '1T212121', '1T21T1T2', '1T2121T2', '1T21T2T2', '1T212T12', '1T21T212', '2T212T1T', '2T21T21T', '2T212T2T', '2T21T12T', '2T21212T', '2T21T1T1', '2T2121T1', '2T21T2T1', '2T212T21', '2T21T121', '2T212121', '2T21T1T2', '2T2121T2', '2T21T2T2', '2T212T12', '2T21T212', 'T1212T1T', 'T121T21T', 'T1212T2T', 'T121T12T', 'T121212T', 'T121T1T1', 'T12121T1', 'T121T2T1', 'T1212T21', 'T121T121', 'T1212121', 'T121T1T2', 'T12121T2', 'T121T2T2', 'T1212T12', 'T121T212', '21212T1T', '2121T21T', '21212T2T', '2121T12T', '2121212T', '2121T1T1', '212121T1', '2121T2T1', '21212T21', '2121T121', '21212121', '2121T1T2', '212121T2', '2121T2T2', '21212T12', '2121T212', 'T1T21T1T', 'T1T2T21T', 'T1T2121T', 'T1T21T2T', 'T1T2T12T', 'T1T2T1T1', 'T1T2T2T1', 'T1T212T1', 'T1T21T21', 'T1T2T121', 'T1T2T1T2', 'T1T2T2T2', 'T1T212T2', 'T1T21T12', 'T1T2T212', 'T1T21212', '21T21T1T', '21T2T21T', '21T2121T', '21T21T2T', '21T2T12T', '21T2T1T1', '21T2T2T1', '21T212T1', '21T21T21', '21T2T121', '21T2T1T2', '21T2T2T2', '21T212T2', '21T21T12', '21T2T212', '21T21212', 'T2T21T1T', 'T2T2T21T', 'T2T2121T', 'T2T21T2T', 'T2T2T12T', 'T2T2T1T1', 'T2T2T2T1', 'T2T212T1', 'T2T21T21', 'T2T2T121', 'T2T2T1T2', 'T2T2T2T2', 'T2T212T2', 'T2T21T12', 'T2T2T212', 'T2T21212', '12T21T1T', '12T2T21T', '12T2121T', '12T21T2T', '12T2T12T', '12T2T1T1', '12T2T2T1', '12T212T1', '12T21T21', '12T2T121', '12T2T1T2', '12T2T2T2', '12T212T2', '12T21T12', '12T2T212', '12T21212', '1T121T1T', '1T12T21T', '1T12121T', '1T121T2T', '1T12T12T', '1T12T1T1', '1T12T2T1', '1T1212T1', '1T121T21', '1T12T121', '1T12T1T2', '1T12T2T2', '1T1212T2', '1T121T12', '1T12T212', '1T121212', '2T121T1T', '2T12T21T', '2T12121T', '2T121T2T', '2T12T12T', '2T12T1T1', '2T12T2T1', '2T1212T1', '2T121T21', '2T12T121', '2T12T1T2', '2T12T2T2', '2T1212T2', '2T121T12', '2T12T212', '2T121212', 'T2121T1T', 'T212T21T', 'T212121T', 'T2121T2T', 'T212T12T', 'T212T1T1', 'T212T2T1', 'T21212T1', 'T2121T21', 'T212T121', 'T212T1T2', 'T212T2T2', 'T21212T2', 'T2121T12', 'T212T212', 'T2121212', '12121T1T', '1212T21T', '1212121T', '12121T2T', '1212T12T', '1212T1T1', '1212T2T1', '121212T1', '12121T21', '1212T121', '1212T1T2', '1212T2T2', '121212T2', '12121T12', '1212T212', '12121212']\n"
     ]
    }
   ],
   "source": [
    "print(len(eight_from_four))\n",
    "print(eight_from_four)"
   ]
  },
  {
   "cell_type": "markdown",
   "metadata": {
    "id": "fUsMnc9yu3C3"
   },
   "source": [
    "YES! So, all eight-note rolls are composed of two four note rolls. So, we only have to learn TWENTY FOUR rolls. Lets look at them:"
   ]
  },
  {
   "cell_type": "code",
   "execution_count": 15,
   "metadata": {
    "colab": {
     "base_uri": "https://localhost:8080/"
    },
    "id": "ycSRDJoPvfX-",
    "outputId": "229c76f8-53bf-451c-817d-a3e36be65eb3"
   },
   "outputs": [
    {
     "name": "stdout",
     "output_type": "stream",
     "text": [
      "1T1T\n",
      "2T1T\n",
      "T21T\n",
      "121T\n",
      "1T2T\n",
      "2T2T\n",
      "T12T\n",
      "212T\n",
      "T1T1\n",
      "21T1\n",
      "T2T1\n",
      "12T1\n",
      "1T21\n",
      "2T21\n",
      "T121\n",
      "2121\n",
      "T1T2\n",
      "21T2\n",
      "T2T2\n",
      "12T2\n",
      "1T12\n",
      "2T12\n",
      "T212\n",
      "1212\n"
     ]
    }
   ],
   "source": [
    "for roll in four_rolls:\n",
    "    print(roll)"
   ]
  },
  {
   "cell_type": "code",
   "execution_count": null,
   "metadata": {},
   "outputs": [],
   "source": []
  }
 ],
 "metadata": {
  "colab": {
   "authorship_tag": "ABX9TyM/z4Mga4Soks4ZSHYduEcu",
   "collapsed_sections": [],
   "include_colab_link": true,
   "name": "Banjo Liberation - Mystic Rolls.ipynb",
   "provenance": []
  },
  "kernelspec": {
   "display_name": "Python 3",
   "language": "python",
   "name": "python3"
  },
  "language_info": {
   "codemirror_mode": {
    "name": "ipython",
    "version": 3
   },
   "file_extension": ".py",
   "mimetype": "text/x-python",
   "name": "python",
   "nbconvert_exporter": "python",
   "pygments_lexer": "ipython3",
   "version": "3.7.6"
  }
 },
 "nbformat": 4,
 "nbformat_minor": 4
}
